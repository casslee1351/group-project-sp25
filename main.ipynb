{
 "cells": [
  {
   "cell_type": "markdown",
   "metadata": {},
   "source": [
    "# CSE-6242 - Team 157 - Group Project"
   ]
  },
  {
   "cell_type": "markdown",
   "metadata": {},
   "source": [
    "__TODO:__  \n",
    "1. Remove custom stop words like \"CHORUS:\" or \"INTRO:\"  \n",
    "2. Remove other stop words."
   ]
  },
  {
   "cell_type": "code",
   "execution_count": 1,
   "metadata": {},
   "outputs": [],
   "source": [
    "# global assumption panel\n",
    "EMBED_STRATEGY = 'GloVe' # ['Word2Vec', 'DistilBERT', 'GloVe']"
   ]
  },
  {
   "cell_type": "code",
   "execution_count": 2,
   "metadata": {},
   "outputs": [
    {
     "name": "stderr",
     "output_type": "stream",
     "text": [
      "c:\\Users\\nccru\\anaconda3\\envs\\cse-6242-project\\Lib\\site-packages\\tqdm\\auto.py:21: TqdmWarning: IProgress not found. Please update jupyter and ipywidgets. See https://ipywidgets.readthedocs.io/en/stable/user_install.html\n",
      "  from .autonotebook import tqdm as notebook_tqdm\n"
     ]
    }
   ],
   "source": [
    "# packages\n",
    "from project_code import data_gathering\n",
    "from embedding import word2vec, distilbert, glove\n",
    "from models import han"
   ]
  },
  {
   "cell_type": "markdown",
   "metadata": {},
   "source": [
    "## Data Gathering"
   ]
  },
  {
   "cell_type": "code",
   "execution_count": 3,
   "metadata": {},
   "outputs": [
    {
     "name": "stdout",
     "output_type": "stream",
     "text": [
      "Lyrics Dataset: Shape = (100, 13)\n",
      "\tColumns = ['title', 'tag', 'artist', 'year', 'views', 'features', 'lyrics', 'id', 'language_cld3', 'language_ft', 'language', 'cleaned_lyrics', 'tokenized_text']\n"
     ]
    }
   ],
   "source": [
    "# read data and perform basic cleaning operations\n",
    "lyrics = data_gathering.read_lyrics(n_rows = 100)"
   ]
  },
  {
   "cell_type": "markdown",
   "metadata": {},
   "source": [
    "## Embedding"
   ]
  },
  {
   "cell_type": "code",
   "execution_count": 4,
   "metadata": {},
   "outputs": [
    {
     "name": "stdout",
     "output_type": "stream",
     "text": [
      "GloVe Embedded Lyrics: Shape = (7476, 300)\n"
     ]
    }
   ],
   "source": [
    "# generate embeddings using word2vec\n",
    "# if EMBED_STRATEGY == 'Word2Vec':\n",
    "#     embedding_model = word2vec.apply_word2vec(lyrics['tokenized_text'].tolist())\n",
    "if EMBED_STRATEGY == 'GloVe':\n",
    "    lyrics_embed = glove.create_glove_matrix(data = lyrics, target_col = 'cleaned_lyrics')\n",
    "elif EMBED_STRATEGY == 'DistilBERT':\n",
    "    lyrics_embed = distilbert.distilbert_embed_all_docs(data = lyrics, target_col = 'lyrics')"
   ]
  },
  {
   "cell_type": "markdown",
   "metadata": {},
   "source": [
    "## Modeling"
   ]
  },
  {
   "cell_type": "code",
   "execution_count": 5,
   "metadata": {},
   "outputs": [
    {
     "data": {
      "text/plain": [
       "HANClassifier(\n",
       "  (rnn): GRU(768, 256, batch_first=True, bidirectional=True)\n",
       "  (attention): Attention(\n",
       "    (attention_weights): Linear(in_features=512, out_features=1, bias=False)\n",
       "  )\n",
       "  (fc): Linear(in_features=512, out_features=10, bias=True)\n",
       "  (softmax): Softmax(dim=1)\n",
       ")"
      ]
     },
     "execution_count": 5,
     "metadata": {},
     "output_type": "execute_result"
    }
   ],
   "source": [
    "han_model = han.HANClassifier(\n",
    "    input_dim = 768,\n",
    "    hidden_dim = 256,\n",
    "    output_dim = 10\n",
    ")\n",
    "han_model"
   ]
  }
 ],
 "metadata": {
  "kernelspec": {
   "display_name": "cse-6242-project",
   "language": "python",
   "name": "python3"
  },
  "language_info": {
   "codemirror_mode": {
    "name": "ipython",
    "version": 3
   },
   "file_extension": ".py",
   "mimetype": "text/x-python",
   "name": "python",
   "nbconvert_exporter": "python",
   "pygments_lexer": "ipython3",
   "version": "3.11.11"
  }
 },
 "nbformat": 4,
 "nbformat_minor": 2
}
