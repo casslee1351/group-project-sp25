{
 "cells": [
  {
   "cell_type": "code",
   "execution_count": null,
   "metadata": {},
   "outputs": [
    {
     "name": "stderr",
     "output_type": "stream",
     "text": [
      "[nltk_data] Downloading package punkt_tab to\n",
      "[nltk_data]     C:\\Users\\pokem\\AppData\\Roaming\\nltk_data...\n",
      "[nltk_data]   Package punkt_tab is already up-to-date!\n"
     ]
    },
    {
     "data": {
      "text/plain": [
       "True"
      ]
     },
     "execution_count": 1,
     "metadata": {},
     "output_type": "execute_result"
    }
   ],
   "source": [
    "import re\n",
    "import pandas as pd\n",
    "\n",
    "import gensim\n",
    "from gensim.models import Word2Vec\n",
    "from gensim.scripts.glove2word2vec import glove2word2vec\n",
    "import gensim.downloader as api\n",
    "from gensim.parsing.preprocessing import remove_stopwords\n",
    "\n",
    "import nltk\n",
    "from nltk.tokenize import word_tokenize\n",
    "from nltk.corpus import stopwords\n",
    "\n",
    "nltk.download('stopwords')\n",
    "nltk.download('punkt_tab')"
   ]
  },
  {
   "cell_type": "code",
   "execution_count": 2,
   "metadata": {},
   "outputs": [],
   "source": [
    "df = pd.read_csv('song_lyrics.csv', nrows=10000)"
   ]
  },
  {
   "cell_type": "code",
   "execution_count": 3,
   "metadata": {},
   "outputs": [
    {
     "data": {
      "text/html": [
       "<div>\n",
       "<style scoped>\n",
       "    .dataframe tbody tr th:only-of-type {\n",
       "        vertical-align: middle;\n",
       "    }\n",
       "\n",
       "    .dataframe tbody tr th {\n",
       "        vertical-align: top;\n",
       "    }\n",
       "\n",
       "    .dataframe thead th {\n",
       "        text-align: right;\n",
       "    }\n",
       "</style>\n",
       "<table border=\"1\" class=\"dataframe\">\n",
       "  <thead>\n",
       "    <tr style=\"text-align: right;\">\n",
       "      <th></th>\n",
       "      <th>title</th>\n",
       "      <th>tag</th>\n",
       "      <th>artist</th>\n",
       "      <th>year</th>\n",
       "      <th>views</th>\n",
       "      <th>features</th>\n",
       "      <th>lyrics</th>\n",
       "      <th>id</th>\n",
       "      <th>language_cld3</th>\n",
       "      <th>language_ft</th>\n",
       "      <th>language</th>\n",
       "    </tr>\n",
       "  </thead>\n",
       "  <tbody>\n",
       "    <tr>\n",
       "      <th>0</th>\n",
       "      <td>Killa Cam</td>\n",
       "      <td>rap</td>\n",
       "      <td>Cam'ron</td>\n",
       "      <td>2004</td>\n",
       "      <td>173166</td>\n",
       "      <td>{\"Cam\\\\'ron\",\"Opera Steve\"}</td>\n",
       "      <td>[Chorus: Opera Steve &amp; Cam'ron]\\nKilla Cam, Ki...</td>\n",
       "      <td>1</td>\n",
       "      <td>en</td>\n",
       "      <td>en</td>\n",
       "      <td>en</td>\n",
       "    </tr>\n",
       "    <tr>\n",
       "      <th>1</th>\n",
       "      <td>Can I Live</td>\n",
       "      <td>rap</td>\n",
       "      <td>JAY-Z</td>\n",
       "      <td>1996</td>\n",
       "      <td>468624</td>\n",
       "      <td>{}</td>\n",
       "      <td>[Produced by Irv Gotti]\\n\\n[Intro]\\nYeah, hah,...</td>\n",
       "      <td>3</td>\n",
       "      <td>en</td>\n",
       "      <td>en</td>\n",
       "      <td>en</td>\n",
       "    </tr>\n",
       "    <tr>\n",
       "      <th>2</th>\n",
       "      <td>Forgive Me Father</td>\n",
       "      <td>rap</td>\n",
       "      <td>Fabolous</td>\n",
       "      <td>2003</td>\n",
       "      <td>4743</td>\n",
       "      <td>{}</td>\n",
       "      <td>Maybe cause I'm eatin\\nAnd these bastards fien...</td>\n",
       "      <td>4</td>\n",
       "      <td>en</td>\n",
       "      <td>en</td>\n",
       "      <td>en</td>\n",
       "    </tr>\n",
       "    <tr>\n",
       "      <th>3</th>\n",
       "      <td>Down and Out</td>\n",
       "      <td>rap</td>\n",
       "      <td>Cam'ron</td>\n",
       "      <td>2004</td>\n",
       "      <td>144404</td>\n",
       "      <td>{\"Cam\\\\'ron\",\"Kanye West\",\"Syleena Johnson\"}</td>\n",
       "      <td>[Produced by Kanye West and Brian Miller]\\n\\n[...</td>\n",
       "      <td>5</td>\n",
       "      <td>en</td>\n",
       "      <td>en</td>\n",
       "      <td>en</td>\n",
       "    </tr>\n",
       "    <tr>\n",
       "      <th>4</th>\n",
       "      <td>Fly In</td>\n",
       "      <td>rap</td>\n",
       "      <td>Lil Wayne</td>\n",
       "      <td>2005</td>\n",
       "      <td>78271</td>\n",
       "      <td>{}</td>\n",
       "      <td>[Intro]\\nSo they ask me\\n\"Young boy\\nWhat you ...</td>\n",
       "      <td>6</td>\n",
       "      <td>en</td>\n",
       "      <td>en</td>\n",
       "      <td>en</td>\n",
       "    </tr>\n",
       "  </tbody>\n",
       "</table>\n",
       "</div>"
      ],
      "text/plain": [
       "               title  tag     artist  year   views  \\\n",
       "0          Killa Cam  rap    Cam'ron  2004  173166   \n",
       "1         Can I Live  rap      JAY-Z  1996  468624   \n",
       "2  Forgive Me Father  rap   Fabolous  2003    4743   \n",
       "3       Down and Out  rap    Cam'ron  2004  144404   \n",
       "4             Fly In  rap  Lil Wayne  2005   78271   \n",
       "\n",
       "                                       features  \\\n",
       "0                   {\"Cam\\\\'ron\",\"Opera Steve\"}   \n",
       "1                                            {}   \n",
       "2                                            {}   \n",
       "3  {\"Cam\\\\'ron\",\"Kanye West\",\"Syleena Johnson\"}   \n",
       "4                                            {}   \n",
       "\n",
       "                                              lyrics  id language_cld3  \\\n",
       "0  [Chorus: Opera Steve & Cam'ron]\\nKilla Cam, Ki...   1            en   \n",
       "1  [Produced by Irv Gotti]\\n\\n[Intro]\\nYeah, hah,...   3            en   \n",
       "2  Maybe cause I'm eatin\\nAnd these bastards fien...   4            en   \n",
       "3  [Produced by Kanye West and Brian Miller]\\n\\n[...   5            en   \n",
       "4  [Intro]\\nSo they ask me\\n\"Young boy\\nWhat you ...   6            en   \n",
       "\n",
       "  language_ft language  \n",
       "0          en       en  \n",
       "1          en       en  \n",
       "2          en       en  \n",
       "3          en       en  \n",
       "4          en       en  "
      ]
     },
     "execution_count": 109,
     "metadata": {},
     "output_type": "execute_result"
    }
   ],
   "source": [
    "df.head()"
   ]
  },
  {
   "cell_type": "code",
   "execution_count": null,
   "metadata": {},
   "outputs": [],
   "source": [
    "### clean up current lyrics\n",
    "### remove chorus:, intro:, etc.\n",
    "### stop words, punctuation"
   ]
  },
  {
   "cell_type": "code",
   "execution_count": 94,
   "metadata": {},
   "outputs": [],
   "source": [
    "def remove_between_brackets(text):\n",
    "  \"\"\"Removes all text between any matching pair of brackets, including the brackets themselves.\"\"\"\n",
    "  return re.sub(r'\\[.*?\\]', '', text)"
   ]
  },
  {
   "cell_type": "code",
   "execution_count": null,
   "metadata": {},
   "outputs": [],
   "source": [
    "def cleanse_lyrics(df):\n",
    "    sw = stopwords.words('english')\n",
    "\n",
    "    df['cleaned_lyrics'] = df['lyrics'].apply(remove_between_brackets)\n",
    "    df['cleaned_lyrics'] = df['cleaned_lyrics'].str.lower()\n",
    "    df['cleaned_lyrics'] = df['cleaned_lyrics'].apply(remove_stopwords)\n",
    "    df['tokenized_text'] = df[\"cleaned_lyrics\"].apply(word_tokenize)\n",
    "\n",
    "    return df"
   ]
  },
  {
   "cell_type": "code",
   "execution_count": 104,
   "metadata": {},
   "outputs": [
    {
     "data": {
      "text/html": [
       "<div>\n",
       "<style scoped>\n",
       "    .dataframe tbody tr th:only-of-type {\n",
       "        vertical-align: middle;\n",
       "    }\n",
       "\n",
       "    .dataframe tbody tr th {\n",
       "        vertical-align: top;\n",
       "    }\n",
       "\n",
       "    .dataframe thead th {\n",
       "        text-align: right;\n",
       "    }\n",
       "</style>\n",
       "<table border=\"1\" class=\"dataframe\">\n",
       "  <thead>\n",
       "    <tr style=\"text-align: right;\">\n",
       "      <th></th>\n",
       "      <th>title</th>\n",
       "      <th>tag</th>\n",
       "      <th>artist</th>\n",
       "      <th>year</th>\n",
       "      <th>views</th>\n",
       "      <th>features</th>\n",
       "      <th>lyrics</th>\n",
       "      <th>id</th>\n",
       "      <th>language_cld3</th>\n",
       "      <th>language_ft</th>\n",
       "      <th>language</th>\n",
       "      <th>cleaned_lyrics</th>\n",
       "      <th>tokenized_text</th>\n",
       "    </tr>\n",
       "  </thead>\n",
       "  <tbody>\n",
       "    <tr>\n",
       "      <th>0</th>\n",
       "      <td>Killa Cam</td>\n",
       "      <td>rap</td>\n",
       "      <td>Cam'ron</td>\n",
       "      <td>2004</td>\n",
       "      <td>173166</td>\n",
       "      <td>{\"Cam\\\\'ron\",\"Opera Steve\"}</td>\n",
       "      <td>[Chorus: Opera Steve &amp; Cam'ron]\\nKilla Cam, Ki...</td>\n",
       "      <td>1</td>\n",
       "      <td>en</td>\n",
       "      <td>en</td>\n",
       "      <td>en</td>\n",
       "      <td>killa cam, killa cam, cam killa cam, killa cam...</td>\n",
       "      <td>[killa, cam, ,, killa, cam, ,, cam, killa, cam...</td>\n",
       "    </tr>\n",
       "    <tr>\n",
       "      <th>1</th>\n",
       "      <td>Can I Live</td>\n",
       "      <td>rap</td>\n",
       "      <td>JAY-Z</td>\n",
       "      <td>1996</td>\n",
       "      <td>468624</td>\n",
       "      <td>{}</td>\n",
       "      <td>[Produced by Irv Gotti]\\n\\n[Intro]\\nYeah, hah,...</td>\n",
       "      <td>3</td>\n",
       "      <td>en</td>\n",
       "      <td>en</td>\n",
       "      <td>en</td>\n",
       "      <td>yeah, hah, yeah, roc-a-fella invite somethin' ...</td>\n",
       "      <td>[yeah, ,, hah, ,, yeah, ,, roc-a-fella, invite...</td>\n",
       "    </tr>\n",
       "    <tr>\n",
       "      <th>2</th>\n",
       "      <td>Forgive Me Father</td>\n",
       "      <td>rap</td>\n",
       "      <td>Fabolous</td>\n",
       "      <td>2003</td>\n",
       "      <td>4743</td>\n",
       "      <td>{}</td>\n",
       "      <td>Maybe cause I'm eatin\\nAnd these bastards fien...</td>\n",
       "      <td>4</td>\n",
       "      <td>en</td>\n",
       "      <td>en</td>\n",
       "      <td>en</td>\n",
       "      <td>maybe cause i'm eatin bastards fiend grub carr...</td>\n",
       "      <td>[maybe, cause, i, 'm, eatin, bastards, fiend, ...</td>\n",
       "    </tr>\n",
       "    <tr>\n",
       "      <th>3</th>\n",
       "      <td>Down and Out</td>\n",
       "      <td>rap</td>\n",
       "      <td>Cam'ron</td>\n",
       "      <td>2004</td>\n",
       "      <td>144404</td>\n",
       "      <td>{\"Cam\\\\'ron\",\"Kanye West\",\"Syleena Johnson\"}</td>\n",
       "      <td>[Produced by Kanye West and Brian Miller]\\n\\n[...</td>\n",
       "      <td>5</td>\n",
       "      <td>en</td>\n",
       "      <td>en</td>\n",
       "      <td>en</td>\n",
       "      <td>ugh, killa! baby! kanye, 1970s heron flow, huh...</td>\n",
       "      <td>[ugh, ,, killa, !, baby, !, kanye, ,, 1970s, h...</td>\n",
       "    </tr>\n",
       "    <tr>\n",
       "      <th>4</th>\n",
       "      <td>Fly In</td>\n",
       "      <td>rap</td>\n",
       "      <td>Lil Wayne</td>\n",
       "      <td>2005</td>\n",
       "      <td>78271</td>\n",
       "      <td>{}</td>\n",
       "      <td>[Intro]\\nSo they ask me\\n\"Young boy\\nWhat you ...</td>\n",
       "      <td>6</td>\n",
       "      <td>en</td>\n",
       "      <td>en</td>\n",
       "      <td>en</td>\n",
       "      <td>ask \"young boy gon' second time around? gon' c...</td>\n",
       "      <td>[ask, ``, young, boy, gon, ', second, time, ar...</td>\n",
       "    </tr>\n",
       "  </tbody>\n",
       "</table>\n",
       "</div>"
      ],
      "text/plain": [
       "               title  tag     artist  year   views  \\\n",
       "0          Killa Cam  rap    Cam'ron  2004  173166   \n",
       "1         Can I Live  rap      JAY-Z  1996  468624   \n",
       "2  Forgive Me Father  rap   Fabolous  2003    4743   \n",
       "3       Down and Out  rap    Cam'ron  2004  144404   \n",
       "4             Fly In  rap  Lil Wayne  2005   78271   \n",
       "\n",
       "                                       features  \\\n",
       "0                   {\"Cam\\\\'ron\",\"Opera Steve\"}   \n",
       "1                                            {}   \n",
       "2                                            {}   \n",
       "3  {\"Cam\\\\'ron\",\"Kanye West\",\"Syleena Johnson\"}   \n",
       "4                                            {}   \n",
       "\n",
       "                                              lyrics  id language_cld3  \\\n",
       "0  [Chorus: Opera Steve & Cam'ron]\\nKilla Cam, Ki...   1            en   \n",
       "1  [Produced by Irv Gotti]\\n\\n[Intro]\\nYeah, hah,...   3            en   \n",
       "2  Maybe cause I'm eatin\\nAnd these bastards fien...   4            en   \n",
       "3  [Produced by Kanye West and Brian Miller]\\n\\n[...   5            en   \n",
       "4  [Intro]\\nSo they ask me\\n\"Young boy\\nWhat you ...   6            en   \n",
       "\n",
       "  language_ft language                                     cleaned_lyrics  \\\n",
       "0          en       en  killa cam, killa cam, cam killa cam, killa cam...   \n",
       "1          en       en  yeah, hah, yeah, roc-a-fella invite somethin' ...   \n",
       "2          en       en  maybe cause i'm eatin bastards fiend grub carr...   \n",
       "3          en       en  ugh, killa! baby! kanye, 1970s heron flow, huh...   \n",
       "4          en       en  ask \"young boy gon' second time around? gon' c...   \n",
       "\n",
       "                                      tokenized_text  \n",
       "0  [killa, cam, ,, killa, cam, ,, cam, killa, cam...  \n",
       "1  [yeah, ,, hah, ,, yeah, ,, roc-a-fella, invite...  \n",
       "2  [maybe, cause, i, 'm, eatin, bastards, fiend, ...  \n",
       "3  [ugh, ,, killa, !, baby, !, kanye, ,, 1970s, h...  \n",
       "4  [ask, ``, young, boy, gon, ', second, time, ar...  "
      ]
     },
     "execution_count": 111,
     "metadata": {},
     "output_type": "execute_result"
    }
   ],
   "source": [
    "df = cleanse_lyrics(df)\n",
    "df.head()"
   ]
  },
  {
   "cell_type": "code",
   "execution_count": 67,
   "metadata": {},
   "outputs": [],
   "source": [
    "# # clean your sentences\n",
    "# stopwords = [YOUR_STOPWORDS_HERE]\n",
    "# cleaned_sentences = []\n",
    "# for sentence in sentences:\n",
    "#   cleaned = [word.lower() for word in sentence]\n",
    "#   cleaned = [word for word in cleaned if word not in stopwords]\n",
    "#   cleaned_sentences.append(cleaned)\n",
    "\n",
    "# build a word2vec model on your dataset\n",
    "sentences = df['tokenized_text'].tolist()\n",
    "base_model = Word2Vec(vector_size=100, min_count=5)\n",
    "base_model.build_vocab(sentences)\n",
    "total_examples = base_model.corpus_count"
   ]
  },
  {
   "cell_type": "code",
   "execution_count": 68,
   "metadata": {},
   "outputs": [
    {
     "data": {
      "text/plain": [
       "(25993762, 35940070)"
      ]
     },
     "execution_count": 68,
     "metadata": {},
     "output_type": "execute_result"
    }
   ],
   "source": [
    "base_model.train(sentences, total_examples=total_examples, epochs=base_model.epochs) "
   ]
  },
  {
   "cell_type": "code",
   "execution_count": 27,
   "metadata": {},
   "outputs": [
    {
     "data": {
      "text/plain": [
       "[',', 'I', 'the', 'you', 'a']"
      ]
     },
     "execution_count": 27,
     "metadata": {},
     "output_type": "execute_result"
    }
   ],
   "source": [
    "list(w for w in base_model.wv.index_to_key)[:5]"
   ]
  },
  {
   "cell_type": "code",
   "execution_count": 69,
   "metadata": {},
   "outputs": [
    {
     "data": {
      "text/plain": [
       "array([[-2.0286001e-01,  4.3490484e-01, -3.6596939e-01, -9.9343044e-01,\n",
       "         1.2629777e-01, -5.4810727e-01, -6.8511891e-01,  6.1739576e-01,\n",
       "         6.6720665e-02,  1.0636948e+00, -1.7869288e-01,  7.7993184e-01,\n",
       "        -1.7503660e-02, -3.0275127e-01,  9.7214353e-01,  5.1051933e-01,\n",
       "         3.2082838e-01,  1.0667556e-01,  5.7888609e-01,  3.2736555e-01,\n",
       "        -2.5839835e-01,  2.2825576e-01, -5.6971192e-01, -7.1697488e-02,\n",
       "        -1.2395582e+00, -1.1794237e+00,  1.9163245e-01, -5.7696766e-01,\n",
       "        -8.6238414e-01, -8.0855572e-01, -1.5279549e+00, -6.7870569e-01,\n",
       "        -9.6184969e-01, -8.0445427e-01, -3.8958216e-01,  3.4506679e-01,\n",
       "         4.0108714e-02,  4.6323735e-01,  5.2820307e-01,  5.2368408e-01,\n",
       "         1.1165643e+00,  1.0798833e+00, -3.0083838e-01,  8.4686438e-03,\n",
       "         6.3838387e-01, -7.2977841e-02, -3.9434960e-01,  5.0134283e-01,\n",
       "        -7.8882903e-01, -4.6081910e-01, -2.8921324e-01,  1.4373095e+00,\n",
       "         1.4088441e+00,  4.0768978e-01,  2.7414035e-02,  3.6734176e-01,\n",
       "         4.8083195e-01, -1.0615650e-01, -4.6182898e-01, -1.0521511e-01,\n",
       "        -1.2517107e+00, -2.6847199e-01, -1.2371832e+00,  9.0371335e-01,\n",
       "         1.0764454e-01, -1.3704804e+00, -1.1078495e+00, -5.0491577e-01,\n",
       "        -1.4145246e-01, -1.8996613e+00,  1.0306667e+00, -7.1280283e-01,\n",
       "        -6.0625780e-01,  4.5206541e-01,  4.1534379e-01, -3.3430415e-01,\n",
       "         1.0705985e-01,  3.2150725e-01,  3.4410942e-02,  2.4713042e-01,\n",
       "         5.4149266e-02,  1.2928326e-01,  1.4121507e+00, -1.3888979e-02,\n",
       "        -1.0937518e-01, -7.3187895e-02, -6.6156596e-01, -1.0937220e+00,\n",
       "         3.9159659e-01,  9.8368984e-01,  4.3693078e-01, -1.6955037e+00,\n",
       "        -5.9979165e-01, -4.8105815e-01, -1.0252105e+00,  8.3681065e-01,\n",
       "        -2.4589983e-01,  1.1370465e+00, -5.3439426e-01,  1.0426052e+00],\n",
       "       [-1.4370883e+00,  1.2529838e+00, -2.4413712e-01, -4.5381021e-01,\n",
       "         1.1063256e+00,  2.9310340e-01,  2.4845004e-02,  5.1630145e-01,\n",
       "         6.8288416e-01, -4.8958901e-01, -2.8525513e-01, -5.6661111e-01,\n",
       "         2.2138813e-01, -1.2882220e+00,  2.6057277e+00,  5.3350616e-01,\n",
       "         1.7185596e+00,  2.4152224e+00,  2.3451655e-01, -3.1884179e-02,\n",
       "         8.8784099e-01, -2.4246871e-01,  1.9490657e+00,  1.3775222e+00,\n",
       "        -2.9847715e+00, -2.6884866e+00, -1.0677615e+00, -5.0987512e-02,\n",
       "         6.8584621e-01, -2.5155151e-01, -4.0112880e-01, -2.6752436e-01,\n",
       "        -1.2780591e+00, -1.9680302e-01, -2.5218298e+00, -6.4072680e-01,\n",
       "        -7.5132370e-02,  1.1441374e+00, -1.4116851e+00,  3.0650163e+00,\n",
       "         4.5529839e-01,  1.4353043e+00, -1.1921114e+00,  7.4633801e-01,\n",
       "        -3.8154840e-01,  1.0856878e+00,  4.2256388e-01, -1.3853406e+00,\n",
       "        -1.7290967e+00, -8.6526710e-01, -3.1320766e-01,  2.8598616e+00,\n",
       "         2.6224652e-01,  6.1723435e-01, -4.1287746e-03, -1.1588075e+00,\n",
       "         3.5635567e+00,  1.2672808e+00, -8.8695806e-01, -7.0791268e-01,\n",
       "        -2.6502662e+00,  2.0732090e+00,  4.2451954e-01, -5.4573596e-01,\n",
       "         1.2208905e+00, -2.4575624e+00, -4.3924788e-01, -1.1771598e+00,\n",
       "        -9.1081470e-02, -4.8090634e-01,  9.5804048e-01, -1.9744846e+00,\n",
       "         2.5838783e-01,  9.8755205e-01, -2.9858550e-01,  1.2486985e+00,\n",
       "        -3.6929069e+00,  1.1154876e+00,  1.2995945e+00, -1.2126704e+00,\n",
       "        -2.0079238e+00,  1.4320359e+00, -2.9729141e-02, -1.1137744e+00,\n",
       "        -1.5719719e+00,  6.1551118e-01, -1.6590816e+00,  3.2739606e-01,\n",
       "         1.1683780e+00,  1.6559703e+00,  9.0987408e-01, -1.8121700e-01,\n",
       "        -4.9521875e-01, -3.3808959e+00,  3.6056700e-01,  3.7380896e+00,\n",
       "         4.0706262e-01, -1.0705603e+00, -4.0840611e+00,  1.8809965e+00],\n",
       "       [ 1.0134614e+00,  1.0107652e+00, -2.8934877e+00, -4.8416033e-01,\n",
       "        -5.5158842e-02, -4.9076071e-01, -2.5322828e+00,  1.3187709e-01,\n",
       "         1.2392404e+00,  2.2636165e-01, -6.1335862e-01,  7.5972006e-02,\n",
       "         1.6328186e+00, -5.2906400e-01, -2.0229222e-02, -1.2746917e-01,\n",
       "         2.4578931e+00,  2.6462138e-01, -9.0498978e-01,  1.7870477e+00,\n",
       "        -1.9481852e+00,  1.6395214e+00,  4.3548390e-01,  7.0018512e-01,\n",
       "        -1.3419120e+00,  5.9238774e-01,  1.6857022e+00, -8.1329840e-01,\n",
       "         1.4593309e+00, -1.3359720e+00, -9.5089543e-01, -2.7233737e+00,\n",
       "        -2.8886306e+00,  9.5147479e-01, -8.9678210e-01, -1.0304617e+00,\n",
       "        -3.0134550e-01, -4.1757092e-01,  6.9253398e-03, -7.5337321e-01,\n",
       "         8.5141486e-01,  9.6508533e-01,  3.7885705e-01,  7.0656013e-01,\n",
       "        -8.3305752e-01,  3.9984000e-01, -1.4201429e+00, -4.9012524e-01,\n",
       "        -1.0814564e+00, -3.1706221e+00, -1.1143739e+00, -9.4395953e-01,\n",
       "        -2.6230663e-01, -4.8002899e-01, -3.3086833e-01, -1.1224151e+00,\n",
       "         1.5069963e+00, -1.0386599e+00, -2.6465597e+00, -5.8770514e-01,\n",
       "        -1.0399600e+00, -9.9336386e-01,  1.8621484e+00,  8.6449516e-01,\n",
       "         1.5475667e+00,  1.0005624e+00, -1.1823440e+00,  4.0600613e-01,\n",
       "        -8.5085249e-01, -4.7728601e-01,  2.6520869e-01, -8.1804985e-01,\n",
       "        -2.9690781e-01,  1.6065673e+00, -1.9985259e+00,  1.7305543e+00,\n",
       "         3.8931552e-01, -4.0900770e-01,  2.4023179e-03, -1.8917903e-02,\n",
       "         8.2470071e-01, -9.4593120e-01, -2.3955703e-01,  8.5610485e-01,\n",
       "        -8.6945081e-01, -5.5691653e-01, -1.7730337e+00, -3.6632806e-01,\n",
       "         1.3705820e+00,  1.6721656e+00, -1.1499202e-01, -1.1045641e+00,\n",
       "         9.0899086e-01, -1.9605585e+00,  4.4118643e-02,  1.8319851e+00,\n",
       "         1.1495709e+00,  1.9731491e+00,  4.8865366e-01,  5.8584660e-01],\n",
       "       [-2.6291966e+00,  3.1319566e+00,  2.3680440e-01, -1.4305263e+00,\n",
       "         1.9853041e-01,  4.8578745e-01,  1.7695950e-01, -4.0907252e-01,\n",
       "         1.0433530e+00,  7.0366591e-01,  3.3331937e-01,  1.3965766e+00,\n",
       "        -1.9191847e+00, -7.9590183e-01,  2.5466430e+00,  2.9974851e-01,\n",
       "         2.5668552e+00,  1.8175970e+00,  4.1802627e-01,  1.2926457e+00,\n",
       "         3.4794238e-01,  7.1531199e-02, -3.7832361e-01,  1.0680599e+00,\n",
       "        -4.3629522e+00, -2.1825908e-01,  3.7739545e-01, -1.4073267e+00,\n",
       "         3.0104783e-01,  2.2898139e-01, -6.0180008e-01, -6.0905135e-01,\n",
       "        -3.5018065e+00, -7.5747997e-01, -7.9821879e-01,  1.3632802e+00,\n",
       "        -9.1714162e-01, -5.8604562e-01, -1.1555885e+00,  1.8766445e+00,\n",
       "         1.9424917e-01,  1.7182549e+00,  1.5534153e+00,  7.9801977e-01,\n",
       "         2.7950151e+00, -9.0750009e-01,  9.3760079e-01, -1.6493179e+00,\n",
       "         4.9106762e-02, -1.1915265e+00,  1.7683910e+00,  3.4374409e+00,\n",
       "        -1.0192591e+00, -1.5293045e+00, -5.1981246e-01, -2.3611230e-01,\n",
       "         2.1325145e+00,  2.7872257e+00,  1.7472610e+00, -2.2892520e+00,\n",
       "        -2.4050734e+00,  3.9708787e-01,  1.4581372e+00,  1.4201105e+00,\n",
       "         1.4528455e+00, -1.5515010e+00, -2.2513273e+00, -1.8796505e+00,\n",
       "        -4.1691428e-01, -1.2572238e-01, -1.4130874e-01, -3.0769069e+00,\n",
       "        -3.1792466e-02,  2.5507870e+00, -2.3950727e+00,  5.5594590e-02,\n",
       "        -2.4969664e+00,  3.5174263e+00,  1.7034373e+00,  1.4565270e-01,\n",
       "        -6.2014806e-01,  1.5461087e+00, -3.8387727e-02, -3.8658383e-01,\n",
       "        -2.8653389e-01,  9.1631031e-01, -1.5311729e+00,  1.0942689e+00,\n",
       "         2.0470500e+00,  5.2701765e-01,  2.6310313e-01, -1.6429473e+00,\n",
       "        -1.5448712e+00, -3.6012492e+00, -3.7978020e-01,  9.8213077e-01,\n",
       "        -8.8350408e-02,  4.5996997e-01, -1.5949788e+00, -3.1105798e-01],\n",
       "       [ 8.0096751e-02,  1.4722116e+00, -4.6385155e+00, -9.6217608e-01,\n",
       "        -8.1551865e-02, -8.8092214e-01, -1.2082664e+00, -1.6455483e+00,\n",
       "        -2.3873396e+00,  2.3066247e+00,  4.4894946e-01,  6.9079083e-01,\n",
       "        -9.7263920e-01, -1.7184548e+00,  4.2714918e-01,  6.8521899e-01,\n",
       "         2.4672511e+00, -1.0711211e+00, -3.2727087e-01,  1.2977147e-01,\n",
       "         9.8995090e-01, -1.7546104e+00,  2.5755446e+00, -5.9127289e-01,\n",
       "        -3.4318278e+00, -6.8058157e-01,  6.3669658e-01, -6.1429125e-01,\n",
       "        -4.1983157e-01, -3.7542677e+00,  8.9414132e-01,  4.0120426e-01,\n",
       "        -3.6150727e+00,  9.2570168e-01,  7.1766371e-01,  1.9290878e-01,\n",
       "         3.4343728e-01,  1.9935470e+00,  1.5165649e-01,  8.2516378e-01,\n",
       "         2.9940603e+00, -4.4178182e-01, -5.2798766e-01,  2.1656430e+00,\n",
       "         1.1530962e+00, -6.2119770e-01,  1.3362597e+00,  6.3871741e-01,\n",
       "        -2.1008708e+00, -1.8423321e+00, -2.9761875e+00,  2.9450350e+00,\n",
       "        -8.0953395e-01,  2.6399481e-01,  3.8586417e-01, -1.2645024e+00,\n",
       "         1.8779269e+00, -2.1396579e-01,  1.8484326e-01, -5.3963029e-01,\n",
       "        -1.1750804e+00, -9.0441120e-01,  1.9792476e+00,  3.4999151e-02,\n",
       "         1.5142763e+00, -8.8068008e-01, -7.5055337e-01,  1.2687769e+00,\n",
       "         4.9224298e-02, -5.2176130e-01, -1.1751550e+00, -1.7568748e+00,\n",
       "        -1.0395890e+00,  1.5854731e+00, -3.3232182e-01,  3.6708970e+00,\n",
       "         4.8194095e-01,  6.1858720e-01,  1.7579782e+00, -3.8954046e-01,\n",
       "        -1.5421187e+00, -2.3885681e-01, -1.0665497e+00,  9.4130123e-01,\n",
       "        -2.9801240e+00, -1.8309731e+00, -5.2363926e-01, -1.2288274e+00,\n",
       "         5.3254092e-01, -9.1797769e-01,  2.7850145e-01, -1.8290147e+00,\n",
       "        -1.0930842e-01, -4.0079793e-01,  7.0167446e-01, -1.5474703e+00,\n",
       "         5.2683058e+00,  1.3707957e+00, -6.2253350e-01,  9.8183495e-01]],\n",
       "      dtype=float32)"
      ]
     },
     "execution_count": 69,
     "metadata": {},
     "output_type": "execute_result"
    }
   ],
   "source": [
    "base_model.wv.vectors[:5]"
   ]
  },
  {
   "cell_type": "code",
   "execution_count": null,
   "metadata": {},
   "outputs": [],
   "source": [
    "def apply_word2vec(sentences):\n",
    "  \"\"\"\n",
    "  apply_word2vec\n",
    "  params: sentences -> 'tokenized_text'\n",
    "  returns: word2vec model\n",
    "  \n",
    "  Access vectors from base_model.wv.vectors and base_model.wv.index_to_key\n",
    "  \"\"\"\n",
    "  base_model = Word2Vec(vector_size=100, min_count=5)\n",
    "  base_model.build_vocab(sentences)\n",
    "  # base_model.train(sentences, total_examples=base_model.corpus_count, epochs=base_model.epochs) \n",
    "  return base_model"
   ]
  },
  {
   "cell_type": "code",
   "execution_count": 34,
   "metadata": {},
   "outputs": [],
   "source": [
    "model = apply_word2vec(df)"
   ]
  },
  {
   "cell_type": "markdown",
   "metadata": {},
   "source": [
    "### Embedding: GloVe"
   ]
  },
  {
   "cell_type": "code",
   "execution_count": null,
   "metadata": {},
   "outputs": [],
   "source": [
    "def apply_glove(sentences, model=\"glove-wiki-gigaword-100\"):\n",
    "\n",
    "    print(\"Models available for use:\")\n",
    "    print(list(gensim.downloader.info()['models'].keys()))\n",
    "\n",
    "    glove_model = api.load(model)\n",
    "\n",
    "    ### initialize model\n",
    "    base_model = Word2Vec(vector_size=100, min_count=1)\n",
    "    base_model.build_vocab(sentences)\n",
    "    total_examples = base_model.corpus_count\n",
    "\n",
    "    base_model.build_vocab(glove_model.index_to_key, update=True)\n",
    "    base_model.train(sentences, total_examples=total_examples, epochs=base_model.epochs)\n",
    "\n",
    "    return base_model"
   ]
  },
  {
   "cell_type": "code",
   "execution_count": 112,
   "metadata": {},
   "outputs": [],
   "source": [
    "glove_model = api.load(\"glove-wiki-gigaword-100\")"
   ]
  },
  {
   "cell_type": "code",
   "execution_count": 89,
   "metadata": {},
   "outputs": [
    {
     "name": "stdout",
     "output_type": "stream",
     "text": [
      "Models available for use:\n",
      "['fasttext-wiki-news-subwords-300', 'conceptnet-numberbatch-17-06-300', 'word2vec-ruscorpora-300', 'word2vec-google-news-300', 'glove-wiki-gigaword-50', 'glove-wiki-gigaword-100', 'glove-wiki-gigaword-200', 'glove-wiki-gigaword-300', 'glove-twitter-25', 'glove-twitter-50', 'glove-twitter-100', 'glove-twitter-200', '__testing_word2vec-matrix-synopsis']\n"
     ]
    },
    {
     "data": {
      "text/plain": [
       "<gensim.models.word2vec.Word2Vec at 0x212c24d7ee0>"
      ]
     },
     "execution_count": 89,
     "metadata": {},
     "output_type": "execute_result"
    }
   ],
   "source": [
    "apply_glove()"
   ]
  },
  {
   "cell_type": "code",
   "execution_count": null,
   "metadata": {},
   "outputs": [],
   "source": [
    "#### build word embedding matrix for GloVe"
   ]
  },
  {
   "cell_type": "markdown",
   "metadata": {},
   "source": [
    "### Embedding: BERT and DistilBERT"
   ]
  },
  {
   "cell_type": "code",
   "execution_count": null,
   "metadata": {},
   "outputs": [],
   "source": [
    "#import library\n",
    "from transformers import DistilBertTokenizer, DistilBertModel\n",
    "import torch\n",
    "import numpy as np\n",
    "\n",
    "#load DistilBERT tokenizer and a pretrained model to avoid training from scratch\n",
    "tokenizer = DistilBertTokenizer.from_pretrained('distilbert-base-uncased')\n",
    "model = DistilBertModel.from_pretrained('distilbert-base-uncased')"
   ]
  },
  {
   "cell_type": "code",
   "execution_count": null,
   "metadata": {},
   "outputs": [],
   "source": [
    "#tokenize and obtain embeddings\n",
    "def get_lyrics_embedding(lyrics):\n",
    "    tokens = tokenizer(\n",
    "        lyrics,\n",
    "        truncation = True,\n",
    "        padding = True, \n",
    "        max_length = 512, #DistilBERT has a max token limit of 512\n",
    "        return_tensors = \"pt\" #converting output as PyTorch since DistilBERT expects tensors not token IDs\n",
    "        )\n",
    "    \n",
    "    with torch.no_grad(): #removes gradient calculation to save memory usage since inferences are not needed as we are predicting, not training\n",
    "        output = model(**tokens)\n",
    "\n",
    "    cls_embedding = output.last_hidden_state[:, 0] #extract first token with CLS\n",
    "    cls_embedding = cls_embedding.detach() #detach from PyTorch's gradient computation \n",
    "    cls_embedding = cls_embedding.cpu() #converting tensor to CPU to ensure compatability (ie. NumPy array conversion)\n",
    "    cls_embedding = cls_embedding.squeeze() #remove any extra dimensions\n",
    "    \n",
    "    embedding = cls_embedding.numpy() #converting into NumPy array\n",
    "    return embedding\n",
    "\n",
    "#converting lyrics into embeddings using nrows\n",
    "embeddings = np.array([get_lyrics_embedding(lyric) for lyric in df['lyrics']])\n"
   ]
  },
  {
   "cell_type": "markdown",
   "metadata": {},
   "source": [
    "### Bag of Words Model"
   ]
  },
  {
   "cell_type": "markdown",
   "metadata": {},
   "source": [
    "### TF-IDF"
   ]
  },
  {
   "cell_type": "markdown",
   "metadata": {},
   "source": [
    "### Question: Are we using Keras / PyTorch?\n",
    "This may change the format and implementation of the current method of embedding."
   ]
  }
 ],
 "metadata": {
  "kernelspec": {
   "display_name": "song_lyrics",
   "language": "python",
   "name": "python3"
  },
  "language_info": {
   "codemirror_mode": {
    "name": "ipython",
    "version": 3
   },
   "file_extension": ".py",
   "mimetype": "text/x-python",
   "name": "python",
   "nbconvert_exporter": "python",
   "pygments_lexer": "ipython3",
   "version": "3.10.6"
  }
 },
 "nbformat": 4,
 "nbformat_minor": 2
}
