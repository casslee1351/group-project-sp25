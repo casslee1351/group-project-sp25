{
 "cells": [
  {
   "cell_type": "markdown",
   "metadata": {},
   "source": [
    "# Deep Model Building Notebook"
   ]
  },
  {
   "cell_type": "markdown",
   "metadata": {},
   "source": [
    "__Objective:__ Import the GPT2 model from hugging-face. Fine to its performance against our data set (`song_lyrics_clean.csv`)."
   ]
  },
  {
   "cell_type": "markdown",
   "metadata": {},
   "source": [
    "## Packages"
   ]
  },
  {
   "cell_type": "markdown",
   "metadata": {},
   "source": [
    "__Non Code Package Folders__  \n",
    "- data  \n",
    "   - Contains the CSV files we read in  \n",
    "- models  \n",
    "   - Contains the state dict for the trained models  "
   ]
  },
  {
   "cell_type": "code",
   "execution_count": null,
   "metadata": {},
   "outputs": [],
   "source": [
    "# packages\n",
    "\n",
    "## custom files\n",
    "\n",
    "### data gathering = where the csv file is read in\n",
    "### genre classification = uses the trained models to predict a custom song genre\n",
    "from project_code import data_gathering, genre_classification\n",
    "\n",
    "### distilbert_clf = Where Nick has made his neural networks based on DistilBERT\n",
    "from architectures import distilbert_clf\n",
    "\n",
    "### distilbert = Pey's work on distilbert embedding\n",
    "### glove = Cassidy's work on glove embedding\n",
    "from embedding import distilbert, glove\n",
    "\n",
    "### preprocessing = for splitting tensors into numerous sets, and loading into DataLoader\n",
    "### training = Contains a training loop for training a model against train and val\n",
    "from modeling import preprocessing, training"
   ]
  }
 ],
 "metadata": {
  "kernelspec": {
   "display_name": "cse6242-team157-project",
   "language": "python",
   "name": "python3"
  },
  "language_info": {
   "name": "python",
   "version": "3.11.11"
  }
 },
 "nbformat": 4,
 "nbformat_minor": 2
}
