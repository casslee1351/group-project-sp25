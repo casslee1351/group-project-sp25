{
 "cells": [
  {
   "cell_type": "markdown",
   "metadata": {},
   "source": [
    "# Deep Model Building Notebook"
   ]
  },
  {
   "cell_type": "markdown",
   "metadata": {},
   "source": [
    "__Objective:__ Import the GPT2 model from hugging-face. Fine to its performance against our data set (`song_lyrics_clean.csv`)."
   ]
  },
  {
   "cell_type": "markdown",
   "metadata": {},
   "source": [
    "## Packages"
   ]
  },
  {
   "cell_type": "markdown",
   "metadata": {},
   "source": [
    "__Non Code Package Folders__  \n",
    "- data  \n",
    "   - Contains the CSV files we read in  \n",
    "- models  \n",
    "   - Contains the state dict for the trained models  "
   ]
  },
  {
   "cell_type": "code",
   "execution_count": 1,
   "metadata": {
    "jupyter": {
     "is_executing": true
    }
   },
   "outputs": [],
   "source": [
    "# packages\n",
    "\n",
    "## custom files\n",
    "\n",
    "### data gathering = where the csv file is read in\n",
    "### genre classification = uses the trained models to predict a custom song genre\n",
    "from project_code import data_gathering, genre_classification\n",
    "\n",
    "### distilbert_clf = Where Nick has made his neural networks based on DistilBERT\n",
    "from architectures import nn_clf\n",
    "\n",
    "### distilbert = Pey's work on distilbert embedding\n",
    "### glove = Cassidy's work on glove embedding\n",
    "from embedding import distilbert, glove\n",
    "\n",
    "### preprocessing = for splitting tensors into numerous sets, and loading into DataLoader\n",
    "### training = Contains a training loop for training a model against train and val\n",
    "from modeling import preprocessing, training"
   ]
  },
  {
   "cell_type": "code",
   "execution_count": 2,
   "metadata": {},
   "outputs": [],
   "source": [
    "# Import Libraries\n",
    "import torch\n",
    "import pandas as pd\n",
    "from transformers import GPT2Tokenizer, GPT2ForSequenceClassification, Trainer, TrainingArguments\n",
    "from datasets import Dataset\n",
    "from sklearn.preprocessing import LabelEncoder"
   ]
  },
  {
   "cell_type": "code",
   "execution_count": 3,
   "metadata": {},
   "outputs": [],
   "source": [
    "# Load dataset (ensure dataset has 'lyrics' and 'genre' columns)\n",
    "df = pd.read_csv('data/song_lyrics_clean.csv', nrows=90000)\n",
    "# df = pd.read_csv('data/song_lyrics_clean.csv')"
   ]
  },
  {
   "cell_type": "code",
   "execution_count": 4,
   "metadata": {},
   "outputs": [],
   "source": [
    "# distinct_genres = df['genre'].unique()\n",
    "# print(df.head(5))\n",
    "# print(distinct_genres)"
   ]
  },
  {
   "cell_type": "code",
   "execution_count": 5,
   "metadata": {},
   "outputs": [],
   "source": [
    "# Encode labels\n",
    "label_encoder = LabelEncoder()\n",
    "df[\"genre_label\"] = label_encoder.fit_transform(df[\"genre\"])\n",
    "# df[\"genre_label\"] = label_encoder.fit_transform(df[\"genre\"]).astype(float)\n",
    "distinct_labels = df['genre_label'].unique()\n",
    "num_labels = len(label_encoder.classes_)"
   ]
  },
  {
   "cell_type": "code",
   "execution_count": 6,
   "metadata": {},
   "outputs": [],
   "source": [
    "# print(num_labels)\n",
    "# print(label_encoder.classes_)\n",
    "# print(distinct_labels)"
   ]
  },
  {
   "cell_type": "code",
   "execution_count": 7,
   "metadata": {},
   "outputs": [],
   "source": [
    "# Initialize tokenizer - This is used to convert the text data(lyrics) to a format understandable by GPT-2 model\n",
    "tokenizer = GPT2Tokenizer.from_pretrained(\"gpt2\")\n",
    "tokenizer.pad_token = tokenizer.eos_token  # GPT-2 doesn't have a padding token by default"
   ]
  },
  {
   "cell_type": "code",
   "execution_count": 8,
   "metadata": {},
   "outputs": [
    {
     "data": {
      "application/vnd.jupyter.widget-view+json": {
       "model_id": "7bc193a2737148479766132d7744c24e",
       "version_major": 2,
       "version_minor": 0
      },
      "text/plain": [
       "Map:   0%|          | 0/90000 [00:00<?, ? examples/s]"
      ]
     },
     "metadata": {},
     "output_type": "display_data"
    }
   ],
   "source": [
    "# Tokenize dataset\n",
    "def tokenize_function(examples):\n",
    "    return tokenizer(examples[\"lyrics\"], padding=\"max_length\", truncation=True, max_length=512)\n",
    "\n",
    "dataset = Dataset.from_pandas(df)\n",
    "dataset = dataset.map(tokenize_function, batched=True)"
   ]
  },
  {
   "cell_type": "code",
   "execution_count": 9,
   "metadata": {},
   "outputs": [],
   "source": [
    "# Prepare Dataset for model\n",
    "dataset = dataset.rename_column(\"genre_label\", \"labels\")\n",
    "dataset.set_format(\"torch\", columns=[\"input_ids\", \"attention_mask\", \"labels\"])"
   ]
  },
  {
   "cell_type": "code",
   "execution_count": 10,
   "metadata": {},
   "outputs": [],
   "source": [
    "# dataset.data"
   ]
  },
  {
   "cell_type": "code",
   "execution_count": 11,
   "metadata": {},
   "outputs": [],
   "source": [
    "# Split dataset\n",
    "train_test_split = dataset.train_test_split(test_size=0.1)\n",
    "train_dataset = train_test_split[\"train\"]\n",
    "test_dataset = train_test_split[\"test\"]"
   ]
  },
  {
   "cell_type": "code",
   "execution_count": 12,
   "metadata": {},
   "outputs": [],
   "source": [
    "# print(train_dataset)\n",
    "# print(train_dataset.features)\n",
    "\n",
    "# from datasets import Dataset, Features, Value, Sequence\n",
    "\n",
    "# # Define the new feature schema with the updated 'labels' column type\n",
    "# new_features = Features({\n",
    "#     'lyrics': Value(dtype='string'),\n",
    "#     'genre': Value(dtype='string'),\n",
    "#     'labels': Value(dtype='float32'),  # Change to float32\n",
    "#     'input_ids': Sequence(feature=Value(dtype='int32'), length=-1),\n",
    "#     'attention_mask': Sequence(feature=Value(dtype='int8'), length=-1)\n",
    "# })\n",
    "\n",
    "# # Re-create the dataset with the updated features\n",
    "# train_dataset = train_dataset.cast(new_features)\n",
    "\n",
    "# print(train_dataset.features)"
   ]
  },
  {
   "cell_type": "code",
   "execution_count": 13,
   "metadata": {},
   "outputs": [
    {
     "name": "stderr",
     "output_type": "stream",
     "text": [
      "Some weights of GPT2ForSequenceClassification were not initialized from the model checkpoint at gpt2 and are newly initialized: ['score.weight']\n",
      "You should probably TRAIN this model on a down-stream task to be able to use it for predictions and inference.\n"
     ]
    }
   ],
   "source": [
    "# Load GPT-2 model with classification head\n",
    "model = GPT2ForSequenceClassification.from_pretrained(\"gpt2\", num_labels=num_labels)\n",
    "model.config.pad_token_id = model.config.eos_token_id  # Ensure padding works correctly"
   ]
  },
  {
   "cell_type": "code",
   "execution_count": 14,
   "metadata": {},
   "outputs": [],
   "source": [
    "# Define training arguments\n",
    "training_args = TrainingArguments(\n",
    "    output_dir=\"./results\",\n",
    "    eval_strategy=\"epoch\",\n",
    "    save_strategy=\"epoch\",\n",
    "    per_device_train_batch_size=4,\n",
    "    per_device_eval_batch_size=4,\n",
    "    num_train_epochs=3,\n",
    "    weight_decay=0.01,\n",
    "    logging_dir=\"./logs\",\n",
    "    logging_steps=10,\n",
    "    load_best_model_at_end=True,\n",
    ")"
   ]
  },
  {
   "cell_type": "code",
   "execution_count": 15,
   "metadata": {},
   "outputs": [],
   "source": [
    "# Initialize Trainer\n",
    "trainer = Trainer(\n",
    "    model=model,\n",
    "    args=training_args,\n",
    "    train_dataset=train_dataset,\n",
    "    eval_dataset=test_dataset,\n",
    "    processing_class=tokenizer,\n",
    ")"
   ]
  },
  {
   "cell_type": "code",
   "execution_count": 16,
   "metadata": {},
   "outputs": [
    {
     "data": {
      "text/html": [
       "\n",
       "    <div>\n",
       "      \n",
       "      <progress value='60750' max='60750' style='width:300px; height:20px; vertical-align: middle;'></progress>\n",
       "      [60750/60750 13:14:58, Epoch 3/3]\n",
       "    </div>\n",
       "    <table border=\"1\" class=\"dataframe\">\n",
       "  <thead>\n",
       " <tr style=\"text-align: left;\">\n",
       "      <th>Epoch</th>\n",
       "      <th>Training Loss</th>\n",
       "      <th>Validation Loss</th>\n",
       "    </tr>\n",
       "  </thead>\n",
       "  <tbody>\n",
       "    <tr>\n",
       "      <td>1</td>\n",
       "      <td>0.239500</td>\n",
       "      <td>0.089300</td>\n",
       "    </tr>\n",
       "    <tr>\n",
       "      <td>2</td>\n",
       "      <td>0.001000</td>\n",
       "      <td>0.101784</td>\n",
       "    </tr>\n",
       "    <tr>\n",
       "      <td>3</td>\n",
       "      <td>0.117800</td>\n",
       "      <td>0.111366</td>\n",
       "    </tr>\n",
       "  </tbody>\n",
       "</table><p>"
      ],
      "text/plain": [
       "<IPython.core.display.HTML object>"
      ]
     },
     "metadata": {},
     "output_type": "display_data"
    },
    {
     "data": {
      "text/plain": [
       "TrainOutput(global_step=60750, training_loss=0.09222020588848293, metrics={'train_runtime': 47700.0867, 'train_samples_per_second': 5.094, 'train_steps_per_second': 1.274, 'total_flos': 6.3495110393856e+16, 'train_loss': 0.09222020588848293, 'epoch': 3.0})"
      ]
     },
     "execution_count": 16,
     "metadata": {},
     "output_type": "execute_result"
    }
   ],
   "source": [
    "# Train model\n",
    "trainer.train()"
   ]
  },
  {
   "cell_type": "code",
   "execution_count": 17,
   "metadata": {},
   "outputs": [
    {
     "data": {
      "text/plain": [
       "('./fine_tuned_gpt2_genre/tokenizer_config.json',\n",
       " './fine_tuned_gpt2_genre/special_tokens_map.json',\n",
       " './fine_tuned_gpt2_genre/vocab.json',\n",
       " './fine_tuned_gpt2_genre/merges.txt',\n",
       " './fine_tuned_gpt2_genre/added_tokens.json')"
      ]
     },
     "execution_count": 17,
     "metadata": {},
     "output_type": "execute_result"
    }
   ],
   "source": [
    "# Save model and tokenizer\n",
    "model.save_pretrained(\"./fine_tuned_gpt2_genre\")\n",
    "tokenizer.save_pretrained(\"./fine_tuned_gpt2_genre\")"
   ]
  },
  {
   "cell_type": "code",
   "execution_count": 18,
   "metadata": {},
   "outputs": [
    {
     "data": {
      "text/html": [],
      "text/plain": [
       "<IPython.core.display.HTML object>"
      ]
     },
     "metadata": {},
     "output_type": "display_data"
    },
    {
     "name": "stdout",
     "output_type": "stream",
     "text": [
      "{'eval_loss': 0.08929992467164993, 'eval_runtime': 408.2663, 'eval_samples_per_second': 22.044, 'eval_steps_per_second': 5.511, 'epoch': 3.0}\n"
     ]
    }
   ],
   "source": [
    "# Evaluate the Model\n",
    "\n",
    "# Evaluate on Test Data\n",
    "results = trainer.evaluate(test_dataset)\n",
    "print(results)"
   ]
  },
  {
   "cell_type": "code",
   "execution_count": 19,
   "metadata": {},
   "outputs": [
    {
     "name": "stdout",
     "output_type": "stream",
     "text": [
      "[[8642   41]\n",
      " [ 120  197]]\n"
     ]
    }
   ],
   "source": [
    "# Confusion Matrix\n",
    "from sklearn.metrics import confusion_matrix\n",
    "import numpy as np\n",
    "\n",
    "# Get predictions and labels\n",
    "predictions, labels, _ = trainer.predict(test_dataset)\n",
    "\n",
    "# For multi-class, convert probabilities to class labels (choose class with max probability)\n",
    "predicted_labels = np.argmax(predictions, axis=1)\n",
    "\n",
    "# Define all possible class labels, for example, [0, 1, 2] for a 3-class problem\n",
    "all_possible_labels = distinct_labels  # Or specify your own list like [0, 1, 2]\n",
    "\n",
    "# Generate Confusion matrix with all possible class labels\n",
    "cm = confusion_matrix(labels, predicted_labels, labels=all_possible_labels)\n",
    "print(cm)"
   ]
  },
  {
   "cell_type": "code",
   "execution_count": 20,
   "metadata": {},
   "outputs": [
    {
     "name": "stdout",
     "output_type": "stream",
     "text": [
      "              precision    recall  f1-score   support\n",
      "\n",
      "     country       0.99      1.00      0.99      8683\n",
      "        misc       0.83      0.62      0.71       317\n",
      "\n",
      "    accuracy                           0.98      9000\n",
      "   macro avg       0.91      0.81      0.85      9000\n",
      "weighted avg       0.98      0.98      0.98      9000\n",
      "\n"
     ]
    }
   ],
   "source": [
    "# Classification Report\n",
    "from sklearn.metrics import classification_report\n",
    "\n",
    "# Generate Classification report\n",
    "print(classification_report(labels, predicted_labels, target_names=label_encoder.classes_))"
   ]
  }
 ],
 "metadata": {
  "kernelspec": {
   "display_name": "cse6242-team157-project",
   "language": "python",
   "name": "python3"
  },
  "language_info": {
   "codemirror_mode": {
    "name": "ipython",
    "version": 3
   },
   "file_extension": ".py",
   "mimetype": "text/x-python",
   "name": "python",
   "nbconvert_exporter": "python",
   "pygments_lexer": "ipython3",
   "version": "3.11.11"
  }
 },
 "nbformat": 4,
 "nbformat_minor": 4
}
